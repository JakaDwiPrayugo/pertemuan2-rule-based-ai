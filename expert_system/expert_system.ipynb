{
 "cells": [
  {
   "cell_type": "markdown",
   "metadata": {},
   "source": [
    "### **Sistem Pakar**\n",
    "\n",
    "Sistem pakar (expert system) adalah sistem yang berusaha mengapdosi pengetahuan manusia ke komputer, agar komputer dapat menyelesaikan masalah seperti yang biasa dilakukan oleh para ahli. Sistem pakar yang baik dirancang agar dapat menyelesaikan suatu permasalahan tertentu dengan meniru kerja dari para ahli.\n",
    "\n",
    "Jadi, sistem pakar merupakan kepakaran ditransfer dari seorang pakar (atau sumber kepakaran yang lain) ke komputer, pengetahuan yang ada disimpan dalam komputer, dan pengguna dapat berkonsultasi pada komputer itu untuk suatu nasehat, lalu komputer dapat mengambil inferensi (menyimpulkan, mendeduksi, dll.) seperti layaknya seorang pakar, kemudian menjelaskannya ke pengguna tersebut, bila perlu dengan alasan-alasannya.\n",
    "\n",
    "Sumber: [https://binus.ac.id/malang/2022/03/sistem-pakar-dalam-ilmu-komputer/](https://binus.ac.id/malang/2022/03/sistem-pakar-dalam-ilmu-komputer/)"
   ]
  },
  {
   "cell_type": "markdown",
   "metadata": {},
   "source": [
    "**Forward Chaining** adalah pencocokan fakta atau pernyataan dimulai dari bagian sebelah kiri (IF dulu). Dengan kata lain, penalaran dimulai dari fakta terlebih dahulu untuk menguji kebenaran hipotesis.\n",
    "\n",
    "Sumber: [https://youtu.be/fiuyhHXOavM?si=zno1Vvxa6WjKb_qN](https://youtu.be/fiuyhHXOavM?si=zno1Vvxa6WjKb_qN)"
   ]
  },
  {
   "cell_type": "markdown",
   "metadata": {},
   "source": [
    "Zookeeper\n",
    "\n"
   ]
  },
  {
   "cell_type": "code",
   "execution_count": 3,
   "metadata": {},
   "outputs": [
    {
     "name": "stdout",
     "output_type": "stream",
     "text": [
      "\n",
      "Itu adalah SINGA JANTAN\n"
     ]
    }
   ],
   "source": [
    "def bool_converter(option):\n",
    "    if option.lower() == 'ya':\n",
    "        return True\n",
    "    elif option.lower() == 'tidak':\n",
    "        return False\n",
    "    else:\n",
    "        raise Exception('Error.. Tolong pilih YA atau TIDAK!')\n",
    "\n",
    "# Input\n",
    "bertaring = bool_converter(input(\"Apakah hewan tersebut bertaring? [YA/TIDAK] \"))\n",
    "warna_bulu_berpola = bool_converter(input(\"Apakah hewan tersebut warna bulunya berpola? [YA/TIDAK] \"))\n",
    "kepala_berbulu_lebat = bool_converter(input(\"Apakah hewan tersebut kepalanya berbulu lebat? [YA/TIDAK] \"))\n",
    "berbulu_lebat = bool_converter(input(\"Apakah hewan tersebut berbulu lebat? [YA/TIDAK] \"))\n",
    "berbulu_tipis = bool_converter(input(\"Apakah hewan tersebut berbulu tipis? [YA/TIDAK] \"))\n",
    "makan_daging = bool_converter(input(\"Apakah hewan tersebut memakan daging? [YA/TIDAK] \"))\n",
    "makan_buah = bool_converter(input(\"Apakah hewan tersebut memakan buah? [YA/TIDAK] \"))\n",
    "berleher_panjang = bool_converter(input(\"Apakah hewan tersebut berlehar panjang? [YA/TIDAK] \"))\n",
    "\n",
    "if bertaring and makan_daging or kepala_berbulu_lebat:\n",
    "    print(\"\\nItu adalah SINGA JANTAN\")\n",
    "elif bertaring and makan_daging and warna_bulu_berpola:\n",
    "    print(\"\\nItu adalah MACAN TUTUL\")\n",
    "elif makan_buah and berbulu_lebat:\n",
    "    print(\"\\nItu adalah ORANGUTAN\")\n",
    "elif makan_buah and berleher_panjang and berbulu_tipis and warna_bulu_berpola:\n",
    "    print(\"\\nItu adalah JERAPAH\")\n",
    "elif berbulu_lebat and bertaring and warna_bulu_berpola and makan_buah:\n",
    "    print(\"\\nItu adalah PANDA\")\n",
    "elif berbulu_lebat and bertaring and warna_bulu_berpola and makan_buah:\n",
    "    print(\"\\nItu adalah BERUANG\")\n",
    "else:\n",
    "    print(\"\\nTidak ditemukan!\")\n",
    "\n"
   ]
  },
  {
   "cell_type": "markdown",
   "metadata": {},
   "source": [
    "**Backward Chaining** adalah pencocokan fakta atau pernyataan dimulai dari bagian sebelah kanan (THEN dulu). Dengan kata lain, penalaran dimulai dari hipotesis terlebih dahulu, dan untuk menguji\n",
    "kebenaran hipotesis tersebut harus dicari fakta-fakta yang ada dalam basis pengetahuan.\n",
    "\n",
    "Sumber: [https://youtu.be/qyoAkdo-hJg?si=UHgPJvFrT3byQRn6](https://youtu.be/qyoAkdo-hJg?si=UHgPJvFrT3byQRn6)"
   ]
  },
  {
   "cell_type": "code",
   "execution_count": 7,
   "metadata": {},
   "outputs": [
    {
     "name": "stdout",
     "output_type": "stream",
     "text": [
      "\n",
      "Benar.. Itu adalah SINGA JANTAN\n"
     ]
    }
   ],
   "source": [
    "hewan = ('singa jantan', 'macan tutul', 'orangutan', 'jerapah', 'panda', 'beruang')\n",
    "\n",
    "def bool_converter(option):\n",
    "    if option.lower() == 'ya':\n",
    "        return True\n",
    "    elif option.lower() == 'tidak':\n",
    "        return False\n",
    "    else:\n",
    "        raise Exception('Error.. Tolong pilih YA atau TIDAK!')\n",
    "\n",
    "# Input\n",
    "nama = str(input(\"Pilih hewan berikut? ['Singa Jantan', 'Macan Tutul', 'Orangutan', 'Jerapah', 'Panda', 'Beruang'] \"))\n",
    "\n",
    "if nama.lower() in hewan:\n",
    "    bertaring = bool_converter(input(\"Apakah hewan tersebut bertaring? [YA/TIDAK] \"))\n",
    "    warna_bulu_berpola = bool_converter(input(\"Apakah hewan tersebut warna bulunya berpola? [YA/TIDAK] \"))\n",
    "    kepala_berbulu_lebat = bool_converter(input(\"Apakah hewan tersebut kepalanya berbulu lebat? [YA/TIDAK] \"))\n",
    "    berbulu_lebat = bool_converter(input(\"Apakah hewan tersebut berbulu lebat? [YA/TIDAK] \"))\n",
    "    berbulu_tipis = bool_converter(input(\"Apakah hewan tersebut berbulu tipis? [YA/TIDAK] \"))\n",
    "    makan_daging = bool_converter(input(\"Apakah hewan tersebut memakan daging? [YA/TIDAK] \"))\n",
    "    makan_buah = bool_converter(input(\"Apakah hewan tersebut memakan buah? [YA/TIDAK] \"))\n",
    "    berleher_panjang = bool_converter(input(\"Apakah hewan tersebut berleher panjang? [YA/TIDAK] \"))\n",
    "else:\n",
    "    raise Exception('Error.. Tolong pilih hewan yang benar.')\n",
    "\n",
    "if (bertaring and makan_daging) or (kepala_berbulu_lebat and nama.lower() == 'singa jantan'):\n",
    "    print(\"\\nBenar.. Itu adalah SINGA JANTAN\")\n",
    "elif bertaring and makan_daging and warna_bulu_berpola and nama.lower() == 'macan tutul':\n",
    "    print(\"\\nBenar.. Itu adalah MACAN TUTUL\")\n",
    "elif makan_buah and berbulu_lebat and nama.lower() == 'orangutan':\n",
    "    print(\"\\nBenar.. Itu adalah ORANGUTAN\")\n",
    "elif makan_buah and berleher_panjang and berbulu_tipis and warna_bulu_berpola and nama.lower() == 'jerapah':\n",
    "    print(\"\\nBenar.. Itu adalah JERAPAH\")\n",
    "elif berbulu_lebat and bertaring and warna_bulu_berpola and makan_buah and nama.lower() == 'panda':\n",
    "    print(\"\\nBenar.. Itu adalah PANDA\")\n",
    "elif berbulu_lebat and bertaring and warna_bulu_berpola and makan_buah and nama.lower() == 'beruang':\n",
    "    print(\"\\nBenar.. Itu adalah BERUANG\")\n",
    "else:\n",
    "    print(\"\\nTidak ditemukan!\")\n"
   ]
  },
  {
   "cell_type": "markdown",
   "metadata": {},
   "source": [
    "### Tugas\n",
    "\n",
    "Cari kasus dan buat program forward chaining dan backward chaining, lalu simpan dalam notebook dengan nama `expert_system_case.ipynb` dan simpan dalam folder `expert-system`. Kemudian konversi menjadi sebuah file python dengan nama masing-masing `forward_chain_case.py` dan `backward_chain.py` lalu disimpan dalam folder `expert-system` dan jangan lupa push ke GitHub!"
   ]
  }
 ],
 "metadata": {
  "kernelspec": {
   "display_name": ".py-ml-ds-cheatsheet-venv",
   "language": "python",
   "name": "python3"
  },
  "language_info": {
   "codemirror_mode": {
    "name": "ipython",
    "version": 3
   },
   "file_extension": ".py",
   "mimetype": "text/x-python",
   "name": "python",
   "nbconvert_exporter": "python",
   "pygments_lexer": "ipython3",
   "version": "3.10.12"
  }
 },
 "nbformat": 4,
 "nbformat_minor": 2
}
