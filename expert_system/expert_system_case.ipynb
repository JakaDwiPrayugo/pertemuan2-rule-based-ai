{
 "cells": [
  {
   "cell_type": "markdown",
   "metadata": {},
   "source": [
    "### Forward Chaining Padi\n"
   ]
  },
  {
   "cell_type": "code",
   "execution_count": 2,
   "metadata": {},
   "outputs": [
    {
     "name": "stdout",
     "output_type": "stream",
     "text": [
      "Proses Forward Chaining untuk Diagnosa Hama dan Penyakit Tanaman Padi\n",
      "Gejala: Daun Menguning\n",
      "Diagnosis: Perlu dilakukan analisis lebih lanjut.\n"
     ]
    }
   ],
   "source": [
    "class ForwardChainingPlantExpert:\n",
    "    def __init__(self):\n",
    "        self.facts = set()\n",
    "\n",
    "    def add_fact(self, fact):\n",
    "        self.facts.add(fact)\n",
    "\n",
    "    def get_user_input(self, symptom):\n",
    "        while True:\n",
    "            user_input = input(f\"Apakah tanaman padi mengalami gejala {symptom}? (Yes/No): \").lower()\n",
    "            if user_input in [\"yes\", \"no\"]:\n",
    "                return user_input\n",
    "            else:\n",
    "                print(\"Masukkan tidak valid. Harap masukkan 'Yes' atau 'No'.\")\n",
    "\n",
    "    def diagnose(self):\n",
    "        print(\"Proses Forward Chaining untuk Diagnosa Hama dan Penyakit Tanaman Padi\")\n",
    "\n",
    "        user_input_yellowing = self.get_user_input(\"Daun Menguning\")\n",
    "        if user_input_yellowing == \"yes\":\n",
    "            print(\"Gejala: Daun Menguning\")\n",
    "            \n",
    "            user_input_spotting = self.get_user_input(\"Bercak pada Daun\")\n",
    "            if user_input_spotting == \"yes\":\n",
    "                print(\"Gejala: Bercak pada Daun\")\n",
    "                print(\"Aturan: Terdapat kemungkinan serangan penyakit Y.\")\n",
    "                print(\"Diagnosis: Tanaman padi mengalami serangan penyakit Y.\")\n",
    "                \n",
    "            else:\n",
    "                user_input_dark_stem = self.get_user_input(\"Gelap pada Batang\")\n",
    "                if user_input_dark_stem == \"yes\":\n",
    "                    print(\"Gejala: Gelap pada Batang\")\n",
    "                    print(\"Aturan: Terdapat kemungkinan serangan hama Z.\")\n",
    "                    print(\"Diagnosis: Tanaman padi diserang oleh hama Z.\")\n",
    "                    \n",
    "                else:\n",
    "                    print(\"Diagnosis: Perlu dilakukan analisis lebih lanjut.\")\n",
    "                    \n",
    "        else:\n",
    "            print(\"Diagnosis: Tanaman padi tidak menunjukkan gejala yang signifikan.\")\n",
    "\n",
    "plant_expert = ForwardChainingPlantExpert()\n",
    "plant_expert.add_fact(\"Daun Menguning\")\n",
    "plant_expert.add_fact(\"Bercak pada Daun\")\n",
    "plant_expert.diagnose()\n",
    "\n"
   ]
  },
  {
   "cell_type": "markdown",
   "metadata": {},
   "source": [
    "### Backward Chaining Padi"
   ]
  },
  {
   "cell_type": "code",
   "execution_count": 3,
   "metadata": {},
   "outputs": [
    {
     "name": "stdout",
     "output_type": "stream",
     "text": [
      "Proses Backward Chaining untuk Diagnosa Hama dan Penyakit Tanaman Padi\n",
      "Gejala: Gelap pada Batang\n",
      "Aturan: Terdapat kemungkinan serangan hama Z.\n",
      "Diagnosis: Tanaman padi diserang oleh hama Z.\n"
     ]
    }
   ],
   "source": [
    "class BackwardChainingPlantExpert:\n",
    "    def __init__(self):\n",
    "        self.facts = set()\n",
    "\n",
    "    def add_fact(self, fact):\n",
    "        self.facts.add(fact)\n",
    "\n",
    "    def get_user_input(self, symptom):\n",
    "        while True:\n",
    "            user_input = input(f\"Apakah tanaman padi mengalami gejala {symptom}? (Yes/No): \").lower()\n",
    "            if user_input in [\"yes\", \"no\"]:\n",
    "                return user_input\n",
    "            else:\n",
    "                print(\"Masukkan tidak valid. Harap masukkan 'Yes' atau 'No'.\")\n",
    "\n",
    "    def diagnose(self):\n",
    "        print(\"Proses Backward Chaining untuk Diagnosa Hama dan Penyakit Tanaman Padi\")\n",
    "\n",
    "        # Pertanyaan terakhir\n",
    "        user_input_dark_stem = self.get_user_input(\"Gelap pada Batang\")\n",
    "        if user_input_dark_stem == \"yes\":\n",
    "            print(\"Gejala: Gelap pada Batang\")\n",
    "            print(\"Aturan: Terdapat kemungkinan serangan hama Z.\")\n",
    "            print(\"Diagnosis: Tanaman padi diserang oleh hama Z.\")\n",
    "        else:\n",
    "            # Pertanyaan kedua\n",
    "            user_input_spotting = self.get_user_input(\"Bercak pada Daun\")\n",
    "            if user_input_spotting == \"yes\":\n",
    "                print(\"Gejala: Bercak pada Daun\")\n",
    "                print(\"Aturan: Terdapat kemungkinan serangan penyakit Y.\")\n",
    "                print(\"Diagnosis: Tanaman padi mungkin mengalami serangan penyakit Y.\")\n",
    "            else:\n",
    "                # Pertanyaan pertama\n",
    "                user_input_yellowing = self.get_user_input(\"Daun Menguning\")\n",
    "                if user_input_yellowing == \"yes\":\n",
    "                    print(\"Gejala: Daun Menguning\")\n",
    "                    print(\"Diagnosis: Tanaman padi mengalami gejala tetapi penyebabnya tidak jelas.\")\n",
    "                else:\n",
    "                    print(\"Diagnosis: Tanaman padi tidak menunjukkan gejala yang signifikan.\")\n",
    "\n",
    "plant_expert = BackwardChainingPlantExpert()\n",
    "plant_expert.add_fact(\"Bercak pada Daun\") \n",
    "plant_expert.add_fact(\"Gelap pada Batang\")  \n",
    "plant_expert.diagnose()\n"
   ]
  }
 ],
 "metadata": {
  "kernelspec": {
   "display_name": ".rule-based-ai-venv",
   "language": "python",
   "name": "python3"
  },
  "language_info": {
   "codemirror_mode": {
    "name": "ipython",
    "version": 3
   },
   "file_extension": ".py",
   "mimetype": "text/x-python",
   "name": "python",
   "nbconvert_exporter": "python",
   "pygments_lexer": "ipython3",
   "version": "3.10.12"
  }
 },
 "nbformat": 4,
 "nbformat_minor": 2
}
